{
 "cells": [
  {
   "cell_type": "markdown",
   "metadata": {},
   "source": [
    "---\n",
    "title: \"Catch the quality line to Quality St.\"\n",
    "author: \"joe leach<br>data architect<br>enterprise architecture team\"\n",
    "format: revealjs\n",
    "bibliography: library.bib\n",
    "link-citations: yes\n",
    "logo: logo_th_gov.png\n",
    "transition: slide\n",
    "background-transition: fade\n",
    "title-slide-attributes:\n",
    "    data-background-color: \"#47423f\"\n",
    "    data-background-image: \"jupiter-over-whitechapel-30-sep-2023.jpg\"\n",
    "    data-background-size: cover\n",
    "    data-background-opacity: \"0.9\"\n",
    "header-includes: |\n",
    "      <link rel=\"stylesheet\" media=\"screen\" href=\"font/style.css\" type=\"text/css\"/>\n",
    "mainfont: AtkinsonHyperlegible\n",
    "monofont: SpaceMono\n",
    "---"
   ]
  },
  {
   "cell_type": "markdown",
   "metadata": {},
   "source": [
    "## {background-image=\"joe.jpg\" background-opacity=0.4}\n",
    "\n",
    "![<span style=\"background-color:white\">Quality street</span> [see @ukgovdqf]](action-plan.png) \n"
   ]
  },
  {
   "cell_type": "markdown",
   "metadata": {},
   "source": [
    "# 🔎 Identify critical data {background-image=\"graph.png\" background-color=\"#333\"}\n",
    "\n",
    "* Find data driving **operational success** \n",
    "* Find data that is vital for **decision-making**\n",
    "* Find data where there is a **high impact of low quality**\n",
    "\n",
    "...sometimes it is all three at once - like in the waste emergency!\n"
   ]
  },
  {
   "cell_type": "markdown",
   "metadata": {},
   "source": [
    "## 🔎 Find data driving operational success - waste emergency example {background-image=\"graph-waste.png\" background-color=\"#333\"}\n",
    "\n",
    "![[see @oflog]](oflog.png)\n"
   ]
  },
  {
   "cell_type": "markdown",
   "metadata": {},
   "source": [
    "## 🔎 Find data driving operational success - waste emergency example {background-image=\"graph-waste.png\" background-color=\"#333\"}\n",
    "\n",
    "Successful operations have clarity on provision:\n",
    "\n",
    "* 🧑🏽 **person** (a user of a service)\n",
    "* 📍 **location** (a place where services happen)\n",
    "* 🏛️ **thing** (assets involved in service delivery)\n",
    "\n",
    "...having a clear link to the original source, in the form of **master** or **reference** data, helps services to plan"
   ]
  },
  {
   "cell_type": "markdown",
   "metadata": {},
   "source": [
    "## 🔎 Find data driving operational success and 🏆 win 🎉 awards 🏆  {background-image=\"geoplace-award.jpg\" background-color=purple}\n",
    "\n",
    "<style>\n",
    ".lewisham {\n",
    "  background-color:#00b7eb; color:#fee05c; opacity:.9\n",
    "}\n",
    "</style>\n",
    "<span class=\"lewisham\">The Winner of the 2023 Data Linking Award was Lewisham Council for integrating its Waste and Recycling Service to the Local Land and Property Gazetteer &hellip; the council has ensured that households eligible for food and garden waste collection can access the appropriate services, but do so without incurring additional costs.\" **Shout to William for pulling this off with postgis and qgis** 🦄 </span> "
   ]
  },
  {
   "cell_type": "markdown",
   "metadata": {},
   "source": [
    "## 🔎 Find data that is vital for decision-making {background-image=\"graph.png\" background-color=black}\n",
    "\n",
    "The strategic plan records 52 key perf\n",
    "ormance indicators, key political decisions are made based on this data\n",
    "\n",
    "![example KPIs showing that y2 recycling is below minimum acceptable levels and that missed collections data is missing](strategic-kpi.png)"
   ]
  },
  {
   "cell_type": "markdown",
   "metadata": {},
   "source": [
    "## 🔎 Find data where there is a high impact of low quality {background-image=\"graph.png\" background-color=black}\n",
    "\n",
    "* enforcement? \n",
    "* planning?"
   ]
  },
  {
   "cell_type": "markdown",
   "metadata": {},
   "source": [
    "# 📃 Identify your data quality rules\n",
    "\n",
    "1. Completeness\n",
    "2. Uniqueness\n",
    "3. Consistency\n",
    "4. Timeliness\n",
    "5. Validity\n",
    "6. (In)accuracy\n",
    "\n",
    "[see @damadimensions]\n"
   ]
  },
  {
   "cell_type": "markdown",
   "metadata": {},
   "source": [
    "## ✅ Completeness {background-image=\"flats-bw.jpg\" background-color=\"black\"}\n",
    "\n",
    "<style>\n",
    ".completeness blockquote {\n",
    "  background-color:white; \n",
    "  color:black;\n",
    "  opacity:.9;\n",
    "}\n",
    "</style>\n",
    "<div class=\"completeness\">\n",
    "\n",
    "> A school collects forms from parents on emergency contact telephone numbers. \n",
    "\n",
    "> There are 300 students, but 294 responses are collected and recorded. \n",
    "\n",
    "> [completeness]{.smallcaps} = 294/300 x 100 = 98%\n",
    "</div>\n"
   ]
  },
  {
   "cell_type": "markdown",
   "metadata": {},
   "source": [
    "## ✅ Uniqueness {background-image=\"dreams.jpg\" background-color=\"black\"}\n",
    "<style>\n",
    ".uniqueness blockquote {\n",
    "  background-color:white; \n",
    "  color:black;\n",
    "  opacity:.8;\n",
    "}\n",
    "</style>\n",
    "<div class=\"uniqueness\">\n",
    "\n",
    "> A school has 120 current students and 380 former students (i.e. 500 in total).\n",
    "\n",
    "> The student database shows 501 different student records.\n",
    "\n",
    "> This includes **Bob Tables** and **Bobby Tables** as separate records, despite only one student at the school named **Bob Tables**.\n",
    "\n",
    "> [uniqueness]{.smallcaps} = 500/501 x 100 = 99.8%\n",
    "</div>"
   ]
  },
  {
   "cell_type": "markdown",
   "metadata": {},
   "source": [
    "## {background-image=\"bobby-tables.jpg\" background-size=contain visibility=hidden}"
   ]
  },
  {
   "cell_type": "markdown",
   "metadata": {},
   "source": [
    "## ✅ Consistency {background-image=\"vans.jpg\" background-color=\"black\"}\n",
    "<style>\n",
    ".consistency blockquote {\n",
    "  background-color:white; \n",
    "  color:black;\n",
    "  opacity:.9;\n",
    "}\n",
    "</style>\n",
    "<div class=\"consistency\">\n",
    "\n",
    "> In a school, a student’s date of birth has the same value and format in the school register as that stored within the student database.\n",
    "\n",
    "> This is an example where reference data may be used, if it exists for a person.\n",
    "</div>"
   ]
  },
  {
   "cell_type": "markdown",
   "metadata": {},
   "source": [
    "## ✅ Timeliness {background-image=\"air-ambulance.jpg\" background-color=\"black\"}\n",
    "\n",
    "<style>\n",
    ".timeliness blockquote {\n",
    "  background-color:white; \n",
    "  color:black;\n",
    "  opacity:.9;\n",
    "}\n",
    "</style>\n",
    "\n",
    "<div class=\"timeliness\">\n",
    "\n",
    "> A school has a service level agreement that a change to an emergency contact will occur within 2 days.\n",
    "\n",
    "> A parent gives an updated emergency contact number on 1 June.\n",
    "\n",
    "> It is entered into the student database on the 4 June.\n",
    "\n",
    "> It has taken 3 days to update the system which breaches the agreed data quality rule.\n",
    "\n",
    "</div>"
   ]
  },
  {
   "cell_type": "markdown",
   "metadata": {},
   "source": [
    "## ✅ Validity {background-image=\"wellies.jpg\" background-color=\"black\"}\n",
    "\n",
    "<style>\n",
    ".validity blockquote {\n",
    "  background-color:white; \n",
    "  color:black;\n",
    "  opacity:.9;\n",
    "}\n",
    "</style>\n",
    "\n",
    "<div class=\"validity\">\n",
    "\n",
    "> Primary and Junior School applications capture the age of a child. This age is entered into the database and the age checked to ensure it is between 4 and 11. Any values outside of this range are rejected as invalid.\n",
    "\n",
    "</div>"
   ]
  },
  {
   "cell_type": "markdown",
   "metadata": {},
   "source": [
    "## ✅ (In)accuracy {background-image=\"canary-wharf-night.jpg\" background-color=black}\n",
    "\n",
    "<style>\n",
    ".accuracy blockquote {\n",
    "  background-color:white; \n",
    "  color:black;\n",
    "  opacity:.9;\n",
    "}\n",
    "</style>\n",
    "\n",
    "<div class=\"accuracy\">\n",
    "\n",
    "> A school receives applications for its annual September intake and requires students to be aged 5 before 31 August of the intake year.\n",
    "\n",
    "> Someone completes the Date of Birth (D.O.B) on the application in the US date format. The student is accepted in error as the date of birth given is 09/08/YYYY rather than 08/09/YYYY.\n",
    "\n",
    "> Inaccuracy is important too, namely when storing anonymised or de-identified (but still linkable) data.\n",
    "</div>"
   ]
  },
  {
   "cell_type": "markdown",
   "metadata": {},
   "source": [
    "## 🤹🏽 User needs and trade-offs \n",
    "\n",
    "The six rules may require juggling at times:\n",
    "\n",
    "> In 2018 the Office for National Statistics (ONS) introduced a new model for publishing Gross Domestic Product (GDP). This enabled monthly estimates of GDP to be published. However, there was a **trade-off between timeliness and accuracy** of the data.\n"
   ]
  },
  {
   "cell_type": "markdown",
   "metadata": {},
   "source": [
    "# 🕵🏽 Assess initial KPIs {background-image=\"brick-lane-bins.jpg\" background-color=black}\n",
    "\n",
    "* percentages: measuring the whole data set, or a part of it - percentages can indicate the scale of a problem\n",
    "* count: typically counts are used to measure incorrect data\n",
    "* true or false: things that will compromise the data set if they are wrong\n",
    "* ratio: the ratio of errors or problems to data without errors or problems"
   ]
  },
  {
   "cell_type": "markdown",
   "metadata": {},
   "source": [
    "# ✍🏽 Document your findings 🕵🏽\n",
    "\n",
    "* understand previous data quality problems\n",
    "    * know where improvements may need to be made in the future\n",
    "        * get information about where data quality may limit the use of the data"
   ]
  },
  {
   "cell_type": "markdown",
   "metadata": {},
   "source": [
    "# ⚖️  Identify and prioritise potential improvements\n",
    "\n",
    "UPRN, always UPRN! This is sometimes achieved with systems integration (e.g. postcode to address completion), and sometims with data matching and linking (Extract Transform Load pipelines)"
   ]
  },
  {
   "cell_type": "markdown",
   "metadata": {},
   "source": [
    "# 📈 Define goals for data quality improvement\n",
    "\n",
    "e.g. creation of systems and/or data integrations that implement data standards (yep UPRN&hellip; again)"
   ]
  },
  {
   "cell_type": "markdown",
   "metadata": {},
   "source": [
    "# 🌱 Root cause analysis\n",
    "\n",
    "[see @ukgovdqf]\n",
    "\n",
    "1. Log data quality problems\n",
    "    2. Understand the data journey\n",
    "        3. Estimate the cost of fixing and not fixing\n",
    "            4. Fix as close to source as possible\n",
    "                5. Is it correct for its original purpose?\n",
    "                    6. Continue to monitor your data  "
   ]
  },
  {
   "cell_type": "markdown",
   "metadata": {},
   "source": [
    "## actions {visibility=\"hidden\"}  \n",
    "\n",
    "* ensuring that you have an organisation-wide data management strategy, and that teams understand and implement the principles and policies within it\n",
    "* introducing data quality checks for data entry, such as data validation\n",
    "* improving data storage and data architecture\n",
    "* improving training and guidance for those involved in data entry\n",
    "* introducing automation, such as validation on data entry, automated quality checks or using specialist coding tools rather than spreadsheets\n",
    "* addressing team culture and behaviours, such as creating a clear culture of accountability for data\n",
    "* correcting low quality data directly (but this can be risky and cause more problems if done incorrectly, so prioritise other fixes before attempting this)\n",
    "* accepting the risk and revisiting the issue in the future, though this action should only be taken after weighing up the trade-offs between the cost of correcting the root cause and the value of high quality data"
   ]
  },
  {
   "cell_type": "markdown",
   "metadata": {},
   "source": [
    "# 📰 Report on your data quality\n",
    "\n",
    "Convert the quality measurements into Key Performance Indicators (KPIs) that can be reliably monitored (hence the use of numeric metric in the initial investigation)."
   ]
  },
  {
   "cell_type": "markdown",
   "metadata": {},
   "source": [
    "# ♻️ <span style=\"background-color:white; opacity:0.8\">Repeat measurements of data quality over time {background-image=\"battersea-power-stn-control-room.jpg\"}\n",
    "\n",
    "<span style=\"background-color:white; opacity:0.8\">Automate the monitoring of the KPIs derived in the initial assessment: make some dashboards</span>"
   ]
  },
  {
   "cell_type": "markdown",
   "metadata": {},
   "source": [
    "# Once you've got to Quality St. there's more lines to ride {background-image=\"data-map.png\" background-size=contain background-opacity=0.3}\n",
    "\n",
    "* <span style=\"background-color:green; color:white\">ethics</span> [Five safes of data @fiveSafes]\n",
    "* <span style=\"background-color:blue; color:white;\">skills</span> [@ddatcapabilityframeworkDigitalData]\n",
    "* <span style=\"background-color:magenta; color:white\">access</span> [F.A.I.R data princples @fairPrinciples]\n"
   ]
  },
  {
   "cell_type": "markdown",
   "metadata": {},
   "source": [
    "# {background-image=\"data-map.png\" background-size=contain}\n"
   ]
  },
  {
   "cell_type": "markdown",
   "metadata": {},
   "source": [
    "# 📚 References {background-image=\"jupiter-over-whitechapel-30-sep-2023.jpg\" background-opacity=0.5 background-color=black}\n",
    "\n",
    "::: {#refs}\n",
    ":::"
   ]
  }
 ],
 "metadata": {
  "kernelspec": {
   "display_name": "hdrc",
   "language": "python",
   "name": "python3"
  },
  "language_info": {
   "codemirror_mode": {
    "name": "ipython",
    "version": 3
   },
   "file_extension": ".py",
   "mimetype": "text/x-python",
   "name": "python",
   "nbconvert_exporter": "python",
   "pygments_lexer": "ipython3",
   "version": "3.11.5"
  }
 },
 "nbformat": 4,
 "nbformat_minor": 2
}
